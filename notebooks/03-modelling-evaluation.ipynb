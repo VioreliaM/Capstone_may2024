{
 "cells": [
  {
   "cell_type": "markdown",
   "metadata": {},
   "source": [
    "# CardioLife. Sprint 3  <img src=\"/Users/vioreliamagari/Desktop/capstone_may2024/images/logoCardioLife.png\" alt=\"Image\" width=\"150\" style=\"float: right\"/>\n",
    "## Choosing the best model and make a Streamlit app"
   ]
  },
  {
   "cell_type": "markdown",
   "metadata": {},
   "source": [
    "In the last sprint we did data pre-processing and baseline modelling: \n",
    "* mapped the columns: `gender`, `smoke`, `alco`, `active` into binary columns\n",
    "* did OneHotEncoder for the columns: `cholesterol` and `gluc`\n",
    "* did GridSearch for the best parameters of three types of models: Logistic Regression, Decision Tree and K-nearest neighbors\n",
    "* did Models Evaluaton: classification report, confusion matrix, ROC curve\n",
    "* from those three models, the best one was Decisin Tree, with a Recall of 0.72\n",
    "\n",
    "In this Sprint we will do:\n",
    "## Table of Contents\n",
    "\n",
    "##### 1. [Random Forest Tree Classifier](#Advanced_modelling)\n",
    "##### 2. [Model Evaluation](#model_evaluation)\n",
    "##### 3. [Best Model](#best_model)\n",
    "##### 4. [Model optimization](#model_optimization)\n",
    "##### 5. [Preparation for Streamlit app](#preparation)\n",
    "##### 6. [Conclusion](#Conclusion)"
   ]
  },
  {
   "cell_type": "markdown",
   "metadata": {},
   "source": [
    "#### **<a id='Advanced_modelling'> 1. Random Forest Tree Classifier </a>**"
   ]
  },
  {
   "cell_type": "markdown",
   "metadata": {},
   "source": [
    "First of all let's import all the libraries that we will need:"
   ]
  },
  {
   "cell_type": "code",
   "execution_count": 116,
   "metadata": {},
   "outputs": [],
   "source": [
    "import pandas as pd\n",
    "import matplotlib.pyplot as plt\n",
    "import seaborn as sns\n",
    "import numpy as np\n",
    "import pickle\n",
    "import warnings\n",
    "\n",
    "warnings.filterwarnings(\"ignore\", category=UserWarning)"
   ]
  },
  {
   "cell_type": "markdown",
   "metadata": {},
   "source": [
    "Now, let's read our dataset that we saved previously: "
   ]
  },
  {
   "cell_type": "code",
   "execution_count": 117,
   "metadata": {},
   "outputs": [
    {
     "data": {
      "text/html": [
       "<div>\n",
       "<style scoped>\n",
       "    .dataframe tbody tr th:only-of-type {\n",
       "        vertical-align: middle;\n",
       "    }\n",
       "\n",
       "    .dataframe tbody tr th {\n",
       "        vertical-align: top;\n",
       "    }\n",
       "\n",
       "    .dataframe thead th {\n",
       "        text-align: right;\n",
       "    }\n",
       "</style>\n",
       "<table border=\"1\" class=\"dataframe\">\n",
       "  <thead>\n",
       "    <tr style=\"text-align: right;\">\n",
       "      <th></th>\n",
       "      <th>age</th>\n",
       "      <th>gender</th>\n",
       "      <th>height</th>\n",
       "      <th>weight</th>\n",
       "      <th>ap_hi</th>\n",
       "      <th>ap_lo</th>\n",
       "      <th>smoke</th>\n",
       "      <th>alco</th>\n",
       "      <th>active</th>\n",
       "      <th>cardio</th>\n",
       "      <th>bmi</th>\n",
       "      <th>cholesterol_1</th>\n",
       "      <th>cholesterol_2</th>\n",
       "      <th>cholesterol_3</th>\n",
       "      <th>gluc_1</th>\n",
       "      <th>gluc_2</th>\n",
       "      <th>gluc_3</th>\n",
       "    </tr>\n",
       "  </thead>\n",
       "  <tbody>\n",
       "    <tr>\n",
       "      <th>0</th>\n",
       "      <td>18393</td>\n",
       "      <td>1</td>\n",
       "      <td>168</td>\n",
       "      <td>62.0</td>\n",
       "      <td>110</td>\n",
       "      <td>80</td>\n",
       "      <td>0</td>\n",
       "      <td>0</td>\n",
       "      <td>1</td>\n",
       "      <td>0</td>\n",
       "      <td>21.967120</td>\n",
       "      <td>1.0</td>\n",
       "      <td>0.0</td>\n",
       "      <td>0.0</td>\n",
       "      <td>1.0</td>\n",
       "      <td>0.0</td>\n",
       "      <td>0.0</td>\n",
       "    </tr>\n",
       "    <tr>\n",
       "      <th>1</th>\n",
       "      <td>20228</td>\n",
       "      <td>0</td>\n",
       "      <td>156</td>\n",
       "      <td>85.0</td>\n",
       "      <td>140</td>\n",
       "      <td>90</td>\n",
       "      <td>0</td>\n",
       "      <td>0</td>\n",
       "      <td>1</td>\n",
       "      <td>1</td>\n",
       "      <td>34.927679</td>\n",
       "      <td>0.0</td>\n",
       "      <td>0.0</td>\n",
       "      <td>1.0</td>\n",
       "      <td>1.0</td>\n",
       "      <td>0.0</td>\n",
       "      <td>0.0</td>\n",
       "    </tr>\n",
       "    <tr>\n",
       "      <th>2</th>\n",
       "      <td>18857</td>\n",
       "      <td>0</td>\n",
       "      <td>165</td>\n",
       "      <td>64.0</td>\n",
       "      <td>130</td>\n",
       "      <td>70</td>\n",
       "      <td>0</td>\n",
       "      <td>0</td>\n",
       "      <td>0</td>\n",
       "      <td>1</td>\n",
       "      <td>23.507805</td>\n",
       "      <td>0.0</td>\n",
       "      <td>0.0</td>\n",
       "      <td>1.0</td>\n",
       "      <td>1.0</td>\n",
       "      <td>0.0</td>\n",
       "      <td>0.0</td>\n",
       "    </tr>\n",
       "    <tr>\n",
       "      <th>3</th>\n",
       "      <td>17623</td>\n",
       "      <td>1</td>\n",
       "      <td>169</td>\n",
       "      <td>82.0</td>\n",
       "      <td>150</td>\n",
       "      <td>100</td>\n",
       "      <td>0</td>\n",
       "      <td>0</td>\n",
       "      <td>1</td>\n",
       "      <td>1</td>\n",
       "      <td>28.710479</td>\n",
       "      <td>1.0</td>\n",
       "      <td>0.0</td>\n",
       "      <td>0.0</td>\n",
       "      <td>1.0</td>\n",
       "      <td>0.0</td>\n",
       "      <td>0.0</td>\n",
       "    </tr>\n",
       "    <tr>\n",
       "      <th>4</th>\n",
       "      <td>17474</td>\n",
       "      <td>0</td>\n",
       "      <td>156</td>\n",
       "      <td>56.0</td>\n",
       "      <td>100</td>\n",
       "      <td>60</td>\n",
       "      <td>0</td>\n",
       "      <td>0</td>\n",
       "      <td>0</td>\n",
       "      <td>0</td>\n",
       "      <td>23.011177</td>\n",
       "      <td>1.0</td>\n",
       "      <td>0.0</td>\n",
       "      <td>0.0</td>\n",
       "      <td>1.0</td>\n",
       "      <td>0.0</td>\n",
       "      <td>0.0</td>\n",
       "    </tr>\n",
       "  </tbody>\n",
       "</table>\n",
       "</div>"
      ],
      "text/plain": [
       "     age  gender  height  weight  ap_hi  ap_lo  smoke  alco  active  cardio  \\\n",
       "0  18393       1     168    62.0    110     80      0     0       1       0   \n",
       "1  20228       0     156    85.0    140     90      0     0       1       1   \n",
       "2  18857       0     165    64.0    130     70      0     0       0       1   \n",
       "3  17623       1     169    82.0    150    100      0     0       1       1   \n",
       "4  17474       0     156    56.0    100     60      0     0       0       0   \n",
       "\n",
       "         bmi  cholesterol_1  cholesterol_2  cholesterol_3  gluc_1  gluc_2  \\\n",
       "0  21.967120            1.0            0.0            0.0     1.0     0.0   \n",
       "1  34.927679            0.0            0.0            1.0     1.0     0.0   \n",
       "2  23.507805            0.0            0.0            1.0     1.0     0.0   \n",
       "3  28.710479            1.0            0.0            0.0     1.0     0.0   \n",
       "4  23.011177            1.0            0.0            0.0     1.0     0.0   \n",
       "\n",
       "   gluc_3  \n",
       "0     0.0  \n",
       "1     0.0  \n",
       "2     0.0  \n",
       "3     0.0  \n",
       "4     0.0  "
      ]
     },
     "execution_count": 117,
     "metadata": {},
     "output_type": "execute_result"
    }
   ],
   "source": [
    "cardio_df = pd.read_csv('/Users/vioreliamagari/Desktop/capstone_may2024/data/cardio_model.csv')\n",
    "cardio_df.head()"
   ]
  },
  {
   "cell_type": "markdown",
   "metadata": {},
   "source": [
    "As we did in Sprint 2, we need to:\n",
    "* Set up our data\n",
    "* Split the training and test data\n",
    "* Grid search for the best hyperparameters\n",
    "* Build the models with the best hyperparameters\n"
   ]
  },
  {
   "cell_type": "markdown",
   "metadata": {},
   "source": [
    "**Data setup** "
   ]
  },
  {
   "cell_type": "code",
   "execution_count": 118,
   "metadata": {},
   "outputs": [],
   "source": [
    "#define X and Y\n",
    "X = cardio_df.drop(['cardio'], axis=1)\n",
    "y = cardio_df['cardio'] "
   ]
  },
  {
   "cell_type": "markdown",
   "metadata": {},
   "source": [
    "**Split train and test data**\n",
    "\n",
    "Now, we will split our data into two parts:\n",
    "1) *Train data* - the biggest part (80%), it will be the data that our models will be trained with\n",
    "2) *Test data* - the smallest part (20%), it will be the data with the help of which we will test and evaluate our models"
   ]
  },
  {
   "cell_type": "code",
   "execution_count": 119,
   "metadata": {},
   "outputs": [],
   "source": [
    "# import train test split\n",
    "from sklearn.model_selection import train_test_split\n",
    "\n",
    "#split the train (80%) and test data (20%), use stratify and random state\n",
    "X_train, X_test, y_train, y_test = train_test_split(X, y, test_size=0.20,\n",
    "                                                    stratify=y,\n",
    "                                                    random_state=42)"
   ]
  },
  {
   "cell_type": "markdown",
   "metadata": {},
   "source": [
    "Now we can proceeed to do modelling. "
   ]
  },
  {
   "cell_type": "code",
   "execution_count": 7,
   "metadata": {},
   "outputs": [],
   "source": [
    "from sklearn.ensemble import RandomForestClassifier\n",
    "from sklearn.model_selection import GridSearchCV"
   ]
  },
  {
   "cell_type": "markdown",
   "metadata": {},
   "source": [
    "We can GridSearch through Random Forest Classifier for the best parameters: number of estimators and maximum depth. "
   ]
  },
  {
   "cell_type": "code",
   "execution_count": 19,
   "metadata": {},
   "outputs": [],
   "source": [
    "#define the parameters that the GridSearch will search through\n",
    "param_grid = [\n",
    "    {\n",
    "        'n_estimators': [10, 50, 100, 150, 200, 300, 400, 500], \n",
    "        'max_depth': [10,20,30,40,50]\n",
    "    }\n",
    "]\n",
    "#use GridSearch \n",
    "grid = GridSearchCV(RandomForestClassifier(), param_grid, cv=5)\n",
    "fittedgrid = grid.fit(X_train[::2], y_train[::2])"
   ]
  },
  {
   "cell_type": "code",
   "execution_count": 20,
   "metadata": {},
   "outputs": [
    {
     "name": "stdout",
     "output_type": "stream",
     "text": [
      "Best parameters are: {'max_depth': 10, 'n_estimators': 100}\n",
      "Best score is: 0.7361853313068965\n"
     ]
    }
   ],
   "source": [
    "# Best hyperparameters\n",
    "best_params = fittedgrid.best_params_\n",
    "#best score\n",
    "best_score = fittedgrid.best_score_\n",
    "#print\n",
    "print(f'Best parameters are: {best_params}')\n",
    "print(f'Best score is: {best_score}')"
   ]
  },
  {
   "cell_type": "markdown",
   "metadata": {},
   "source": [
    "We can see that the best parameters are:\n",
    "* maximum depth - 10\n",
    "* number of estimators - 100\n",
    "\n",
    "The best score of the GridSearch is 0.74, that is a good score. \n",
    "\n",
    "Now let's build the Random Forest Classifier model with those parameters:"
   ]
  },
  {
   "cell_type": "code",
   "execution_count": 212,
   "metadata": {},
   "outputs": [
    {
     "name": "stdout",
     "output_type": "stream",
     "text": [
      "Train Score: 0.756140923769094\n",
      "Test Score: 0.733763877802772\n"
     ]
    }
   ],
   "source": [
    "# instantiate the Decision Tree Classifier model with the best hyperparameters\n",
    "best_ran_tree = RandomForestClassifier(max_depth = 10, \n",
    "                                       n_estimators= 100\n",
    "                                       )  \n",
    "best_ran_tree.fit(X_train, y_train)\n",
    "#Print the train and test score\n",
    "print(f'Train Score: {best_ran_tree.score(X_train, y_train)}')\n",
    "print(f'Test Score: {best_ran_tree.score(X_test, y_test)}')"
   ]
  },
  {
   "cell_type": "markdown",
   "metadata": {},
   "source": [
    "Therefore, we got a Train Score of **0.76** (the highest from all models) and a Test score of **0.73**. Now let's proceed to the next step."
   ]
  },
  {
   "cell_type": "markdown",
   "metadata": {},
   "source": [
    "#### **<a id='model_evaluation'> 2. Model evaluation </a>**"
   ]
  },
  {
   "cell_type": "markdown",
   "metadata": {},
   "source": [
    "*Classification report*"
   ]
  },
  {
   "cell_type": "code",
   "execution_count": 213,
   "metadata": {},
   "outputs": [
    {
     "name": "stdout",
     "output_type": "stream",
     "text": [
      "              precision    recall  f1-score   support\n",
      "\n",
      "           0       0.72      0.78      0.75      6961\n",
      "           1       0.75      0.68      0.72      6820\n",
      "\n",
      "    accuracy                           0.73     13781\n",
      "   macro avg       0.74      0.73      0.73     13781\n",
      "weighted avg       0.74      0.73      0.73     13781\n",
      "\n"
     ]
    }
   ],
   "source": [
    "from sklearn.metrics import classification_report\n",
    "y_pred_rf = best_ran_tree.predict(X_test)\n",
    "#make classification report\n",
    "report_log = classification_report(y_test, y_pred_rf)\n",
    "print(report_log)"
   ]
  },
  {
   "cell_type": "markdown",
   "metadata": {},
   "source": [
    "We see that the ratio between the correctly predicted patients who have a CVD to the total of patients who have a CVD, or the *precision*, is **0.75**. The ratio of correctly predicted patients who have a CVD to all patients, or the *recall*, is **0.68**. The mean of precision and recall, or *F1-score*, is **0.72**, and the *accuracy* is **0.73**. \n",
    "\n",
    "We can tell that Random Forest Classification is a good model, but we need to make sure that we have less false negatives, and that the recall is higher. \n",
    "\n",
    "Now, let's look at the *Confusion Matrix* of the Random Forest Classifier: "
   ]
  },
  {
   "cell_type": "code",
   "execution_count": 214,
   "metadata": {},
   "outputs": [
    {
     "data": {
      "image/png": "[encoded data removed]",
      "text/plain": [
       "<Figure size 800x600 with 2 Axes>"
      ]
     },
     "metadata": {},
     "output_type": "display_data"
    }
   ],
   "source": [
    "from sklearn.metrics import confusion_matrix\n",
    "\n",
    "#Get predictions\n",
    "y_pred_rf = best_ran_tree.predict(X_test)\n",
    "\n",
    "# Generate confusion matrix for test set\n",
    "cm = confusion_matrix(y_test, y_pred_rf)\n",
    "\n",
    "# Plot confusion matrix as a heatmap\n",
    "plt.figure(figsize=(8, 6))\n",
    "sns.heatmap(cm, annot=True, fmt='d', cmap='YlGnBu', \n",
    "            xticklabels=['Predicted no CVD', 'Predicted CVD'], \n",
    "            yticklabels=['True no CVD', 'True CVD'])\n",
    "plt.xlabel('Predicted Label')\n",
    "plt.ylabel('True Label')\n",
    "plt.title('Confusion Matrix')\n",
    "plt.show()"
   ]
  },
  {
   "cell_type": "markdown",
   "metadata": {},
   "source": [
    "Therefore, we observe that there is:\n",
    "We can tell that there is:\n",
    "* 5442 patients that were correctly predicted to be without a CVD (true negative)\n",
    "* 2150 patients that were incorrectly predicted to be without CVD (false negative), in reality they have this diagnose\n",
    "* 1519 patients that were incorrectly predicted to be with a CVD (false positive), in reality they were healthy\n",
    "* 4670 patients that were correctly predicted to be with a CVD(true positive)\n",
    "\n",
    "Now let's look at the ROC curve and AUC score:  "
   ]
  },
  {
   "cell_type": "code",
   "execution_count": 215,
   "metadata": {},
   "outputs": [
    {
     "data": {
      "image/png": "[encoded data removed]",
      "text/plain": [
       "<Figure size 640x480 with 1 Axes>"
      ]
     },
     "metadata": {},
     "output_type": "display_data"
    },
    {
     "name": "stdout",
     "output_type": "stream",
     "text": [
      "Test AUC score: 0.7984081819909079\n",
      "Train AUC score: 0.8320073982354556\n"
     ]
    }
   ],
   "source": [
    "from sklearn.metrics import roc_curve, roc_auc_score\n",
    "\n",
    "#Get the probability for each point in the test set.\n",
    "y_proba_test_rf = best_ran_tree.predict_proba(X_test)[:,1]\n",
    "\n",
    "#Get the probability for each point in the train set.\n",
    "y_proba_train_rf = best_ran_tree.predict_proba(X_train)[:,1]\n",
    "\n",
    "# Compute ROC curve and AUC for for the one class\n",
    "roc_auc_test = roc_auc_score(y_test, y_proba_test_rf)\n",
    "fprs_test, tprs_test, thresholds_test = roc_curve(y_test, y_proba_test_rf)\n",
    "\n",
    "fprs_train, tprs_train, thresholds_train = roc_curve(y_train, y_proba_train_rf)\n",
    "roc_auc_train = roc_auc_score(y_train, y_proba_train_rf)\n",
    "\n",
    "# Plot the ROC curve.\n",
    "plt.figure()\n",
    "plt.plot(fprs_train, tprs_train, color='darkorange', lw=2, label='train')\n",
    "plt.plot(fprs_test, tprs_test, lw=2, label='test')\n",
    "plt.plot([0, 1], [0, 1], color='navy', lw=2, linestyle='--')\n",
    "plt.xlabel('False Positive Rate')\n",
    "plt.ylabel('True Positive Rate')\n",
    "plt.title('ROC and AUC')\n",
    "plt.legend(loc=\"best\")\n",
    "plt.show()\n",
    "print(f\"Test AUC score: {roc_auc_test}\")\n",
    "print(f\"Train AUC score: {roc_auc_train}\")"
   ]
  },
  {
   "cell_type": "markdown",
   "metadata": {},
   "source": [
    "We can observe that the ROC curve for the train data is slightly above the ROC curve of the test data. Also, both curves are close to the top-left corner, suggesting a high accuracy. \n",
    "\n",
    "The test AUC score is 0.80 and the train AUC score is 0.83. They are quite similar, indicating that the model generalizes well from training to test data without significant overfitting or underfitting. We can tell that the Random Forest model has a strong predictive performance. "
   ]
  },
  {
   "cell_type": "markdown",
   "metadata": {},
   "source": [
    "#### **<a id='best_model'> 3. Choosing the best model </a>**"
   ]
  },
  {
   "cell_type": "markdown",
   "metadata": {},
   "source": [
    "Based on the results from the Sprint 2, the best model was Decision Tree Classifier. Therefore, let's look at the differences between Decision Tree Classifier and Random Forest Classifier."
   ]
  },
  {
   "cell_type": "markdown",
   "metadata": {},
   "source": [
    "| **Scores**      | **Decision Tree** | **Random Forest** | \n",
    "|-----------------|-------------------|-------------------|\n",
    "| **Train score** | 0.73              | **0.76**          |\n",
    "| **Test score**  | 0.73              | 0.73              | \n",
    "| **Accuracy**    | 0.73              | 0.73              |\n",
    "| **Precision**   | 0.73              | **0.76**          |\n",
    "| **Recall**      | **0.72**          | 0.68              |\n",
    "| **F-1 score**   | 0.72              | 0.72              |\n",
    "| **Test AUC**    | 0.79              | **0.80**          |\n",
    "| **Train AUC**   | 0.78              | **0.83**          |"
   ]
  },
  {
   "cell_type": "markdown",
   "metadata": {},
   "source": [
    "| Confusion matrix   | **Decision Tree** | **Random Forest** |\n",
    "|--------------------|-------------------|-------------------|\n",
    "| **True negative**  | 5110              | 5476              |\n",
    "| **False negative** | 1894              | 2177              |\n",
    "| **True positive**  | 4926              | 4643              |\n",
    "| **False positive** | 1851              | 1485              |"
   ]
  },
  {
   "cell_type": "markdown",
   "metadata": {},
   "source": [
    "We can see that **Random Forest Classifier** has best Train score (**0.76**), Precision (**0.76**), Test AUC (**0.80**) and Train (**AUC**). But *Decision Tree* has higher Recall (**0.72**) and therefore, has the lowest *False Negative* predictions. \n",
    "\n",
    "Therefore, considering that **Random Forest CLassifier** has a higher score, we will chose this model, and we will try to optimize it so we can minimize the False Negative predictions and increase the Recall. "
   ]
  },
  {
   "cell_type": "markdown",
   "metadata": {},
   "source": [
    "#### **<a id='Model_optimization'> 4. Model optimization </a>**"
   ]
  },
  {
   "cell_type": "markdown",
   "metadata": {},
   "source": [
    "First of all, let's look at the features that contribute the most to the positive prediction: "
   ]
  },
  {
   "cell_type": "code",
   "execution_count": 317,
   "metadata": {},
   "outputs": [
    {
     "data": {
      "image/png": "[encoded data removed]",
      "text/plain": [
       "<Figure size 1000x600 with 1 Axes>"
      ]
     },
     "metadata": {},
     "output_type": "display_data"
    }
   ],
   "source": [
    "cardio = cardio_df.drop(columns=['cardio']).copy()\n",
    "#Plot the feature importances\n",
    "feat_importances = pd.Series(best_ran_tree.feature_importances_, index=cardio.columns)\n",
    "feat_importances.sort_values().plot(kind=\"barh\",figsize=(10, 6))\n",
    "plt.show()"
   ]
  },
  {
   "cell_type": "markdown",
   "metadata": {},
   "source": [
    "Therefore, we can observe that the top features that contribute to the positive predictions are:\n",
    "* A high Systolic blood pressure and diastolic blood pressure\n",
    "* Age \n",
    "* Body Mass Index (weight / height^2)\n",
    "* A very high cholesterol"
   ]
  },
  {
   "cell_type": "markdown",
   "metadata": {},
   "source": [
    "To make our model better, we can try to look at the different y thresholds and look at the precision and recall score. Our goal is to have a balance between precision and recall score."
   ]
  },
  {
   "cell_type": "code",
   "execution_count": 231,
   "metadata": {},
   "outputs": [
    {
     "data": {
      "image/png": "[encoded data removed]",
      "text/plain": [
       "<Figure size 640x480 with 1 Axes>"
      ]
     },
     "metadata": {},
     "output_type": "display_data"
    }
   ],
   "source": [
    "from sklearn.metrics import precision_score\n",
    "from sklearn.metrics import recall_score\n",
    "\n",
    "#Get predictions\n",
    "y_pred_rf = best_ran_tree.predict(X_test)\n",
    "# Vary thresholds by 0.05 from 0.05 to 0.95\n",
    "thresholds = np.arange(0.05, 1, 0.05)\n",
    "\n",
    "precisions = []\n",
    "recalls = []\n",
    "\n",
    "for threshold in thresholds:\n",
    "\n",
    "    # Apply threshold\n",
    "    y_threshold = np.where(y_proba_test_rf > threshold, 1, 0)\n",
    "\n",
    "    # Calculate precision and recall\n",
    "    precision = precision_score(y_test, y_threshold)\n",
    "    recall = recall_score(y_test, y_threshold)\n",
    "\n",
    "    # Append to list\n",
    "    precisions.append(precision)\n",
    "    recalls.append(recall)\n",
    "\n",
    "# Visualize the result\n",
    "plt.figure()\n",
    "plt.plot(thresholds, precisions, label='precision', marker='o')\n",
    "plt.plot(thresholds, recalls, label='recall', marker='o')\n",
    "plt.xlim(0, 1)\n",
    "plt.xlabel('threshold')\n",
    "plt.ylabel('score')\n",
    "plt.legend()\n",
    "plt.show()"
   ]
  },
  {
   "cell_type": "markdown",
   "metadata": {},
   "source": [
    "We can observe that around 0.42-0.48, the Recall and Precision score are more in balance. Let's look at the y_threshold and Precision/Recall values :"
   ]
  },
  {
   "cell_type": "code",
   "execution_count": 239,
   "metadata": {},
   "outputs": [
    {
     "name": "stdout",
     "output_type": "stream",
     "text": [
      "Threshold of 0.42:\n",
      "Precision score: 0.705091649694501\n",
      "Recall score: 0.7614369501466276\n",
      "Train score: 0.7480679220637858\n",
      "Test score: 0.7243306001015891\n",
      "#####################################\n",
      "Threshold of 0.43:\n",
      "Precision score: 0.7120055517002082\n",
      "Recall score: 0.7521994134897361\n",
      "Train score: 0.7496643808279816\n",
      "Test score: 0.7267977650388215\n",
      "#####################################\n",
      "Threshold of 0.44:\n",
      "Precision score: 0.71875\n",
      "Recall score: 0.7453079178885631\n",
      "Train score: 0.7509524327854578\n",
      "Test score: 0.7296277483491764\n",
      "#####################################\n",
      "Threshold of 0.45:\n",
      "Precision score: 0.7232323232323232\n",
      "Recall score: 0.7348973607038123\n",
      "Train score: 0.7518957947824825\n",
      "Test score: 0.7296277483491764\n",
      "#####################################\n",
      "Threshold of 0.46:\n",
      "Precision score: 0.7289829512051734\n",
      "Recall score: 0.7272727272727273\n",
      "Train score: 0.7531475635862269\n",
      "Test score: 0.731224149190915\n",
      "#####################################\n",
      "Threshold of 0.47000000000000003:\n",
      "Precision score: 0.7364154908435905\n",
      "Recall score: 0.7193548387096774\n",
      "Train score: 0.754181633467581\n",
      "Test score: 0.7336913141281475\n",
      "#####################################\n"
     ]
    }
   ],
   "source": [
    "# Define the range of threshold values\n",
    "threshold_values = np.arange(0.42, 0.48, 0.01)\n",
    "#Prin the scores for every threshold value\n",
    "for threshold in threshold_values:\n",
    "    # Calculate predictions based on the threshold for test and train sets\n",
    "    y_threshold_test = np.where(y_proba_test_rf > threshold, 1, 0)\n",
    "    y_threshold_train = np.where(y_proba_train_rf > threshold, 1, 0)\n",
    "    print(f\"Threshold of {threshold}:\")\n",
    "    # Print precision and recall scores \n",
    "    precision = precision_score(y_test, y_threshold_test)\n",
    "    recall = recall_score(y_test, y_threshold_test)\n",
    "    print(f\"Precision score: {precision}\")\n",
    "    print(f\"Recall score: {recall}\")\n",
    "    # Print train and test scores\n",
    "    train_score = np.mean(y_threshold_train == y_train)\n",
    "    test_score = np.mean(y_threshold_test == y_test)\n",
    "    print(f\"Train score: {train_score}\")\n",
    "    print(f\"Test score: {test_score}\")\n",
    "    print('#####################################') "
   ]
  },
  {
   "cell_type": "markdown",
   "metadata": {},
   "source": [
    "Therefore, the best y threshold is 0.44. We can see that the Precision score is 0.72 and **Recall** score is **0.74**, that is the highest recall that we could get. Also the train score is 0.75 and test score is 0.73. \n",
    "\n",
    "Let's look at the confusion matrix with the new threshold of 0.44: "
   ]
  },
  {
   "cell_type": "code",
   "execution_count": 241,
   "metadata": {},
   "outputs": [
    {
     "data": {
      "image/png": "[encoded data removed]",
      "text/plain": [
       "<Figure size 800x600 with 2 Axes>"
      ]
     },
     "metadata": {},
     "output_type": "display_data"
    }
   ],
   "source": [
    "from sklearn.metrics import confusion_matrix\n",
    "\n",
    "y_threshold_test = np.where(y_proba_test_rf > 0.44, 1, 0)\n",
    "y_threshold_train = np.where(y_proba_train_rf > 0.44, 1, 0)\n",
    "\n",
    "# Generate confusion matrix for test set\n",
    "cm = confusion_matrix(y_test, y_threshold_test)\n",
    "\n",
    "# Plot confusion matrix as a heatmap\n",
    "plt.figure(figsize=(8, 6))\n",
    "sns.heatmap(cm, annot=True, fmt='d', cmap='YlGnBu', \n",
    "            xticklabels=['Predicted no CVD', 'Predicted CVD'], \n",
    "            yticklabels=['True no CVD', 'True CVD'])\n",
    "plt.xlabel('Predicted Label')\n",
    "plt.ylabel('True Label')\n",
    "plt.title('Confusion Matrix')\n",
    "plt.show()"
   ]
  },
  {
   "cell_type": "markdown",
   "metadata": {},
   "source": [
    "Therefore, we can observe that the number of False Negative predictions is lower (from 2150 to 1737). But also the number of False Positive has risen (from 1519 to 1989)."
   ]
  },
  {
   "cell_type": "markdown",
   "metadata": {},
   "source": [
    "#### **<a id='preparation'> 5. Preparation for Streamlit app </a>**"
   ]
  },
  {
   "cell_type": "markdown",
   "metadata": {},
   "source": [
    "We choosed the best model, evaluated and optimized it. Now, how we can make recommendations based on the model's predictions. \n",
    "\n",
    "In order to do that we need to look at how each feature contributes to the model's ouput for a specific prediction (X_new). We can do that using Shapley Values and `shap.TreeExplainer`- to compute Shapley values for the Random Forest model"
   ]
  },
  {
   "cell_type": "code",
   "execution_count": 320,
   "metadata": {},
   "outputs": [
    {
     "name": "stdout",
     "output_type": "stream",
     "text": [
      "Probability of X_new to be positive:\n",
      "[0.72222581]\n",
      "Predictions for X_new:\n",
      "[1]\n"
     ]
    }
   ],
   "source": [
    "# User data, transformed into a dataframe\n",
    "X_new = [43531, 0, 157, 123.0, 140, 90, 0, 1, 1, 49.620288, 0, 0, 1, 1, 0, 0]\n",
    "column_names = ['age', 'gender', 'height', 'weight', 'ap_hi',\n",
    "                'ap_lo', 'smoke', 'alco', 'active', 'bmi',\n",
    "                'cholesterol_1', 'cholesterol_2', 'cholesterol_3', \n",
    "                'gluc_1', 'gluc_2', 'gluc_3']\n",
    "X_new = pd.DataFrame([X_new], columns=column_names)\n",
    "# calculate the probability and the prediction\n",
    "y_probabilities = best_ran_tree.predict_proba(X_new)[:, 1]\n",
    "threshold = 0.44\n",
    "y_pred_new = (y_probabilities >= threshold).astype(int)\n",
    "print(\"Probability of X_new to be positive:\")\n",
    "print(y_probabilities)\n",
    "print(\"Predictions for X_new:\")\n",
    "print(y_pred_new)"
   ]
  },
  {
   "cell_type": "code",
   "execution_count": 321,
   "metadata": {},
   "outputs": [
    {
     "data": {
      "text/html": [
       "<div>\n",
       "<style scoped>\n",
       "    .dataframe tbody tr th:only-of-type {\n",
       "        vertical-align: middle;\n",
       "    }\n",
       "\n",
       "    .dataframe tbody tr th {\n",
       "        vertical-align: top;\n",
       "    }\n",
       "\n",
       "    .dataframe thead th {\n",
       "        text-align: right;\n",
       "    }\n",
       "</style>\n",
       "<table border=\"1\" class=\"dataframe\">\n",
       "  <thead>\n",
       "    <tr style=\"text-align: right;\">\n",
       "      <th></th>\n",
       "      <th>ap_hi</th>\n",
       "      <th>ap_lo</th>\n",
       "      <th>cholesterol_1</th>\n",
       "      <th>cholesterol_3</th>\n",
       "      <th>bmi</th>\n",
       "      <th>gluc_3</th>\n",
       "      <th>weight</th>\n",
       "      <th>gender</th>\n",
       "      <th>gluc_2</th>\n",
       "      <th>smoke</th>\n",
       "      <th>active</th>\n",
       "      <th>height</th>\n",
       "      <th>gluc_1</th>\n",
       "      <th>age</th>\n",
       "      <th>cholesterol_2</th>\n",
       "      <th>alco</th>\n",
       "    </tr>\n",
       "  </thead>\n",
       "  <tbody>\n",
       "    <tr>\n",
       "      <th>0</th>\n",
       "      <td>0.121896</td>\n",
       "      <td>0.041181</td>\n",
       "      <td>0.036611</td>\n",
       "      <td>0.036222</td>\n",
       "      <td>0.006379</td>\n",
       "      <td>0.003164</td>\n",
       "      <td>0.002591</td>\n",
       "      <td>0.001762</td>\n",
       "      <td>0.000474</td>\n",
       "      <td>0.000158</td>\n",
       "      <td>-0.000336</td>\n",
       "      <td>-0.00131</td>\n",
       "      <td>-0.001739</td>\n",
       "      <td>-0.002113</td>\n",
       "      <td>-0.003343</td>\n",
       "      <td>-0.014365</td>\n",
       "    </tr>\n",
       "  </tbody>\n",
       "</table>\n",
       "</div>"
      ],
      "text/plain": [
       "      ap_hi     ap_lo  cholesterol_1  cholesterol_3       bmi    gluc_3  \\\n",
       "0  0.121896  0.041181       0.036611       0.036222  0.006379  0.003164   \n",
       "\n",
       "     weight    gender    gluc_2     smoke    active   height    gluc_1  \\\n",
       "0  0.002591  0.001762  0.000474  0.000158 -0.000336 -0.00131 -0.001739   \n",
       "\n",
       "        age  cholesterol_2      alco  \n",
       "0 -0.002113      -0.003343 -0.014365  "
      ]
     },
     "execution_count": 321,
     "metadata": {},
     "output_type": "execute_result"
    }
   ],
   "source": [
    "import shap\n",
    "#compute shapley values for best_ran_tree model\n",
    "explainer = shap.TreeExplainer(best_ran_tree)\n",
    "shap_values = explainer.shap_values(X_new)\n",
    "# Extract SHAP values for positive output\n",
    "shap_values_pos = shap_values[0][:, 1]  \n",
    "# Create DataFrames for SHAP values of positive output\n",
    "shap_values_df = pd.DataFrame(shap_values_pos.reshape(1, -1), columns=column_names)\n",
    "# Sort the dataframe\n",
    "sorted_df = shap_values_df.sort_values(by=shap_values_df.index[0], axis=1, ascending=False)\n",
    "sorted_df"
   ]
  },
  {
   "cell_type": "markdown",
   "metadata": {},
   "source": [
    "Therefore, we can see that we got the importance of each feature that has on the positive prediction. Based on that, we can make reccomendations. For example, the risks factor of this patient that contributed to the positive prediction of CVD are:\n",
    "* high blood pressure (0,121)\n",
    "* a very high cholesterol level (0.036)\n",
    "* body mass index (0.006)\n",
    "\n",
    "Therefore, the patient should go to a cardiologist to manage his high blood pressure and high cholesterol level. His weight and BMI are indicating that the patient is obese, so that factor contribute negatively to his health. \n",
    "\n",
    "This is a example of how the **CardioLife app** will predict and make reccomendations based on the feature importance of each variable. \n",
    "\n",
    "To see how I developed the app, go to the folder **-> app -> CardioLife_app.py**. \n",
    "\n",
    "To run this map you should:\n",
    "* Run on your command line: `pip install streamlit`\n",
    "* Validate the installation by running the Hello app: `streamlit hello`\n",
    "* on another command line window, or after closing the previous one, run: \n",
    "\n",
    "`streamlit run <path>/CardioLife_app.py`\n"
   ]
  },
  {
   "cell_type": "markdown",
   "metadata": {},
   "source": [
    "### Save the model "
   ]
  },
  {
   "cell_type": "markdown",
   "metadata": {},
   "source": [
    "We need to save the model, to use it in our streamlit app. We can save it using pickle:"
   ]
  },
  {
   "cell_type": "code",
   "execution_count": 60,
   "metadata": {},
   "outputs": [],
   "source": [
    "import pickle\n",
    "\n",
    "with open('final_rf_model.pkl', 'wb') as file:\n",
    "    pickle.dump(best_ran_tree, file)"
   ]
  },
  {
   "cell_type": "markdown",
   "metadata": {},
   "source": [
    "#### **<a id='Conclusion'> 6. Conclusion </a>**"
   ]
  },
  {
   "cell_type": "markdown",
   "metadata": {},
   "source": [
    "In this Sprint, that is also the last one, we could:\n",
    "* find the best model to be **Random Forest Classifier**\n",
    "* evaluated and optimized the model, setting a threshold of 0.44 for the positive predictions\n",
    "* obtained the minimum of False negatives and the maximum Recall\n",
    "* Developed the user friendly web app using Streamlit and the model that we saved\n",
    "\n",
    "Next stepts that we could do in the future is:\n",
    "* to do more recommendations and insert links where the users can click, to inform themselves more on the risks they have\n",
    "* to improve the web app's design\n",
    "* to deploy the app and share it "
   ]
  }
 ],
 "metadata": {
  "kernelspec": {
   "display_name": "deeplearning",
   "language": "python",
   "name": "python3"
  },
  "language_info": {
   "codemirror_mode": {
    "name": "ipython",
    "version": 3
   },
   "file_extension": ".py",
   "mimetype": "text/x-python",
   "name": "python",
   "nbconvert_exporter": "python",
   "pygments_lexer": "ipython3",
   "version": "3.12.4"
  },
  "orig_nbformat": 4
 },
 "nbformat": 4,
 "nbformat_minor": 2
}
